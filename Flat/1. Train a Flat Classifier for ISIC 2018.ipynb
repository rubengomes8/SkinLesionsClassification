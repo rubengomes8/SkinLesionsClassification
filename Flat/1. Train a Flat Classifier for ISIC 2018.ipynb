{
 "cells": [
  {
   "cell_type": "code",
   "execution_count": 1,
   "metadata": {},
   "outputs": [],
   "source": [
    "import cv2\n",
    "import os\n",
    "from operator import itemgetter\n",
    "from numpy import array\n",
    "import csv\n",
    "import time\n",
    "import matplotlib.pyplot as plt\n",
    "import keras\n",
    "import tensorflow as tf\n",
    "from sklearn.metrics import confusion_matrix\n",
    "from tensorflow.keras.callbacks import EarlyStopping\n",
    "import datetime"
   ]
  },
  {
   "cell_type": "code",
   "execution_count": 2,
   "metadata": {},
   "outputs": [],
   "source": [
    "# imports all the images from a specified folder, with a specific extension\n",
    "# and resizes to a specific imgHeight, imgWidth\n",
    "\n",
    "def import_dataset(path, mode, fileExtension='.jpg', imgWidth=224, imgHeight=224):\n",
    "    datasetFilenamesImages = []\n",
    "    dataset = []\n",
    "    print(\"Start importing \" + mode + \" images...\")\n",
    "    for filename in os.listdir(path):\n",
    "        if filename.endswith(fileExtension): \n",
    "            completePath = os.path.join(path, filename)\n",
    "            image = cv2.imread(completePath, cv2.IMREAD_COLOR)\n",
    "            image = cv2.cvtColor(image, cv2.COLOR_BGR2RGB)\n",
    "            image = cv2.resize(image, dsize=(imgHeight, imgWidth), interpolation=cv2.INTER_AREA)\n",
    "            filenameImage = [filename, image]\n",
    "            datasetFilenamesImages.append(filenameImage)\n",
    "        else:\n",
    "            continue\n",
    "    \n",
    "    datasetFilenamesImages = sorted(datasetFilenamesImages, key=itemgetter(0))\n",
    "    for x in datasetFilenamesImages:\n",
    "        dataset.append(x[1])\n",
    "    \n",
    "    return array(dataset)\n",
    "    "
   ]
  },
  {
   "cell_type": "code",
   "execution_count": 3,
   "metadata": {},
   "outputs": [],
   "source": [
    "# returns a counter with the number of samples for each class\n",
    "# returns a list of the true labels\n",
    "# Assumptions: 1st row is headers definition, True Labels are sorted by the image filename in the csv\n",
    "\n",
    "def assign_labels(pathGroundtruth):\n",
    "    target = []\n",
    "    counter = {'MEL': 0, 'NV': 0, 'BCC': 0, 'AKIEC': 0, 'BKL': 0, 'DF': 0, 'VASC': 0}\n",
    "    i = 0\n",
    "    with open(pathGroundtruth, 'r') as file:\n",
    "        reader = csv.reader(file)\n",
    "        for row in reader:\n",
    "            if i == 0: # headers\n",
    "                i += 1\n",
    "                continue\n",
    "            if row[1] == '1.0':  # MEL\n",
    "                counter['MEL'] += 1\n",
    "                target.append(0)\n",
    "            elif row[2] == '1.0':  # NV\n",
    "                counter['NV'] += 1\n",
    "                target.append(1)\n",
    "            elif row[3] == '1.0':  # BCC\n",
    "                counter['BCC'] += 1\n",
    "                target.append(2)\n",
    "            elif row[4] == '1.0':  # AKIEC\n",
    "                counter['AKIEC'] += 1\n",
    "                target.append(3)\n",
    "            elif row[5] == '1.0':  # BKL\n",
    "                counter['BKL'] += 1\n",
    "                target.append(4)\n",
    "            elif row[6] == '1.0':  # DF\n",
    "                counter['DF'] += 1\n",
    "                target.append(5)\n",
    "            elif row[7] == '1.0':  # VASC\n",
    "                counter['VASC'] += 1\n",
    "                target.append(6)  # BCC\n",
    "            else:\n",
    "                continue\n",
    "        print(counter)\n",
    "        file.close()\n",
    "        return counter, target\n",
    "        "
   ]
  },
  {
   "cell_type": "code",
   "execution_count": 4,
   "metadata": {},
   "outputs": [],
   "source": [
    "def plot_val_train_error(fit):\n",
    "    plt.plot(fit.history['accuracy'])\n",
    "    plt.plot(fit.history['val_accuracy'])\n",
    "    plt.grid(True)\n",
    "    plt.title('Model Accuracy')\n",
    "    plt.ylabel('Accuracy')\n",
    "    plt.xlabel('Epoch')\n",
    "    plt.legend(['Train', 'Val'], loc='upper left')\n",
    "    plt.show()\n",
    "\n",
    "    plt.plot(fit.history['loss'])\n",
    "    plt.plot(fit.history['val_loss'])\n",
    "    plt.grid(True)\n",
    "    plt.title('Model Loss')\n",
    "    plt.ylabel('Loss')\n",
    "    plt.xlabel('Epoch')\n",
    "    plt.legend(['Train', 'Val'], loc='upper left')\n",
    "    plt.show()"
   ]
  },
  {
   "cell_type": "code",
   "execution_count": 5,
   "metadata": {},
   "outputs": [],
   "source": [
    "def create_model(model='densenet', transferLearning=True, imgWidth=224, imgHeight = 224):\n",
    "    if model == 'resnet':\n",
    "\n",
    "        from tensorflow.keras.applications.resnet import ResNet101\n",
    "        from tensorflow.keras.layers import Dense, GlobalAveragePooling2D\n",
    "\n",
    "        if transferLearning == False:\n",
    "            resnet = ResNet101(include_top=False, weights=None, input_shape=(imgHeight, imgWidth, 3))\n",
    "        else:\n",
    "            resnet = ResNet101(include_top=False, weights='imagenet', input_shape=(imgHeight, imgWidth, 3))\n",
    "\n",
    "        model = tf.keras.Sequential(resnet)\n",
    "        model.add(GlobalAveragePooling2D())\n",
    "        model.add(tf.keras.layers.Dropout(0.5))\n",
    "        model.add(Dense(units=7, activation=\"softmax\"))\n",
    "\n",
    "    elif model == 'densenet':\n",
    "\n",
    "        from tensorflow.keras.applications.densenet import DenseNet121\n",
    "        from tensorflow.keras.layers import Dense, GlobalAveragePooling2D\n",
    "\n",
    "        if transferLearning == False:\n",
    "            densenet = DenseNet121(include_top=False, weights=None, input_shape=(imgHeight, imgWidth, 3))\n",
    "        else:\n",
    "            densenet = DenseNet121(include_top=False, weights='imagenet', input_shape=(imgHeight, imgWidth, 3))\n",
    "\n",
    "        model = tf.keras.Sequential(densenet)\n",
    "        model.add(GlobalAveragePooling2D())\n",
    "        model.add(tf.keras.layers.Dropout(0.5))\n",
    "        model.add(Dense(units=7, activation=\"softmax\"))\n",
    "    \n",
    "    return model"
   ]
  },
  {
   "cell_type": "code",
   "execution_count": 6,
   "metadata": {},
   "outputs": [],
   "source": [
    "# Learning Rate Scheduler\n",
    "\n",
    "def scheduler(epoch):\n",
    "    global noEpochs\n",
    "    global learningRate\n",
    "    if epoch < int(0.5 * noEpochs):\n",
    "        return learningRate\n",
    "    elif epoch < int(0.75 * noEpochs):\n",
    "        return learningRate / 10\n",
    "    else:\n",
    "        return learningRate / 100"
   ]
  },
  {
   "cell_type": "code",
   "execution_count": 7,
   "metadata": {},
   "outputs": [
    {
     "name": "stdout",
     "output_type": "stream",
     "text": [
      "Start importing training images...\n",
      "{'MEL': 3, 'NV': 3, 'BCC': 3, 'AKIEC': 3, 'BKL': 3, 'DF': 3, 'VASC': 3}\n",
      "Start importing validation images...\n",
      "{'MEL': 1, 'NV': 1, 'BCC': 1, 'AKIEC': 1, 'BKL': 1, 'DF': 1, 'VASC': 1}\n",
      "Dataset Imported\n"
     ]
    }
   ],
   "source": [
    "# Import Training and Validation datasets and Groundtruth\n",
    "\n",
    "pathTrain = '/home/ruben/Desktop/isic_2018/train_2018'\n",
    "truthTrain = '/home/ruben/Desktop/isic_2018/train_2018/labels.csv'\n",
    "\n",
    "x_train = import_dataset(pathTrain, 'training')\n",
    "counterTrain, y_train = assign_labels(truthTrain)\n",
    "\n",
    "pathVal = '/home/ruben/Desktop/isic_2018/val_2018'\n",
    "truthVal = '/home/ruben/Desktop/isic_2018/val_2018/labels.csv'\n",
    "\n",
    "x_val = import_dataset(pathVal, 'validation')\n",
    "counterVal, y_val = assign_labels(truthVal)\n",
    "\n",
    "print(\"Dataset Imported\")"
   ]
  },
  {
   "cell_type": "code",
   "execution_count": 8,
   "metadata": {},
   "outputs": [],
   "source": [
    "# Define training variables\n",
    "\n",
    "noEpochs = 5\n",
    "learningRate = 1e-5\n",
    "noClasses = 7\n",
    "batchSize = 10\n",
    "modelName = 'densenet'\n",
    "\n",
    "checkpointPath = {\n",
    "    'resnet': \"/home/ruben/Desktop/isic_2018/model_weights/flat/resnet/cp.ckpt\",\n",
    "    'densenet': \"/home/ruben/Desktop/isic_2018/model_weights/flat/densenet/cp.ckpt\"\n",
    "}\n",
    "\n",
    "# Define the class weights to handle unbalanced dataset\n",
    "\n",
    "w_0 = 10608. / 1212\n",
    "w_1 = 10608. / 7149\n",
    "w_2 = 10608. / 519\n",
    "w_3 = 10608. / 360\n",
    "w_4 = 10608. / 1101\n",
    "w_5 = 10608. / 114\n",
    "w_6 = 10608. / 153\n",
    "\n",
    "classWeights = {0: w_0, 1: w_1, 2: w_2, 3: w_3, 4: w_4, 5: w_5, 6: w_6}\n",
    "\n",
    "y_train_cat = keras.utils.to_categorical(y_train, noClasses)\n",
    "y_val_cat = keras.utils.to_categorical(y_val, noClasses)\n",
    "\n",
    "# Callback to adapt the learning rate value\n",
    "schedulerLearningRate = tf.keras.callbacks.LearningRateScheduler(scheduler)\n",
    "\n",
    "# Callback to save the Best Model Weights\n",
    "checkpoint_dir = os.path.dirname(checkpointPath[modelName])\n",
    "checkpoint = tf.keras.callbacks.ModelCheckpoint(\n",
    "    filepath=checkpointPath[modelName],\n",
    "    save_weights_only=True,\n",
    "    verbose=1, \n",
    "    save_best_only=True\n",
    ")"
   ]
  },
  {
   "cell_type": "code",
   "execution_count": 9,
   "metadata": {},
   "outputs": [
    {
     "name": "stdout",
     "output_type": "stream",
     "text": [
      "Model: \"sequential\"\n",
      "_________________________________________________________________\n",
      "Layer (type)                 Output Shape              Param #   \n",
      "=================================================================\n",
      "densenet121 (Model)          (None, 7, 7, 1024)        7037504   \n",
      "_________________________________________________________________\n",
      "global_average_pooling2d (Gl (None, 1024)              0         \n",
      "_________________________________________________________________\n",
      "dropout (Dropout)            (None, 1024)              0         \n",
      "_________________________________________________________________\n",
      "dense (Dense)                (None, 7)                 7175      \n",
      "=================================================================\n",
      "Total params: 7,044,679\n",
      "Trainable params: 6,961,031\n",
      "Non-trainable params: 83,648\n",
      "_________________________________________________________________\n"
     ]
    }
   ],
   "source": [
    "# Create and fit the model\n",
    "model = create_model(modelName, transferLearning=True)\n",
    "model.summary()\n",
    "\n",
    "model.compile(\n",
    "    loss = keras.losses.categorical_crossentropy,\n",
    "    optimizer = tf.keras.optimizers.Adam(lr=1e-5),\n",
    "    metrics = ['accuracy']\n",
    ")"
   ]
  },
  {
   "cell_type": "code",
   "execution_count": 13,
   "metadata": {},
   "outputs": [
    {
     "name": "stdout",
     "output_type": "stream",
     "text": [
      "Epoch 1/5\n",
      "3/3 [==============================] - ETA: 0s - loss: 54.3230 - accuracy: 0.2381\n",
      "Epoch 00001: val_loss improved from 2.09207 to 2.08688, saving model to /home/ruben/Desktop/isic_2018/model_weights/flat/densenet/cp.ckpt\n",
      "3/3 [==============================] - 7s 2s/step - loss: 54.3230 - accuracy: 0.2381 - val_loss: 2.0869 - val_accuracy: 0.1429 - lr: 1.0000e-05\n",
      "Epoch 2/5\n",
      "3/3 [==============================] - ETA: 0s - loss: 55.5157 - accuracy: 0.2857\n",
      "Epoch 00002: val_loss improved from 2.08688 to 2.07504, saving model to /home/ruben/Desktop/isic_2018/model_weights/flat/densenet/cp.ckpt\n",
      "3/3 [==============================] - 10s 3s/step - loss: 55.5157 - accuracy: 0.2857 - val_loss: 2.0750 - val_accuracy: 0.1429 - lr: 1.0000e-05\n",
      "Epoch 3/5\n",
      "3/3 [==============================] - ETA: 0s - loss: 51.7485 - accuracy: 0.3333\n",
      "Epoch 00003: val_loss did not improve from 2.07504\n",
      "3/3 [==============================] - 8s 3s/step - loss: 51.7485 - accuracy: 0.3333 - val_loss: 2.0776 - val_accuracy: 0.1429 - lr: 1.0000e-06\n",
      "Epoch 4/5\n",
      "3/3 [==============================] - ETA: 0s - loss: 46.5900 - accuracy: 0.2857\n",
      "Epoch 00004: val_loss improved from 2.07504 to 2.07339, saving model to /home/ruben/Desktop/isic_2018/model_weights/flat/densenet/cp.ckpt\n",
      "3/3 [==============================] - 8s 3s/step - loss: 46.5900 - accuracy: 0.2857 - val_loss: 2.0734 - val_accuracy: 0.1429 - lr: 1.0000e-07\n",
      "Epoch 5/5\n",
      "3/3 [==============================] - ETA: 0s - loss: 54.5524 - accuracy: 0.3810\n",
      "Epoch 00005: val_loss improved from 2.07339 to 2.06680, saving model to /home/ruben/Desktop/isic_2018/model_weights/flat/densenet/cp.ckpt\n",
      "3/3 [==============================] - 9s 3s/step - loss: 54.5524 - accuracy: 0.3810 - val_loss: 2.0668 - val_accuracy: 0.1429 - lr: 1.0000e-07\n"
     ]
    }
   ],
   "source": [
    "fit = model.fit(\n",
    "    x_train,\n",
    "    y_train_cat,\n",
    "    batch_size=batchSize,\n",
    "    class_weight=classWeights,\n",
    "    callbacks=[schedulerLearningRate, checkpoint],\n",
    "    epochs = noEpochs,\n",
    "    shuffle=True,\n",
    "    validation_data=(x_val, y_val_cat)\n",
    ")\n",
    "\n",
    "plot_val_train_error(fit)"
   ]
  },
  {
   "cell_type": "code",
   "execution_count": 14,
   "metadata": {},
   "outputs": [
    {
     "name": "stdout",
     "output_type": "stream",
     "text": [
      "[[0 0 0 0 1 0 0]\n",
      " [0 0 1 0 0 0 0]\n",
      " [0 0 0 0 1 0 0]\n",
      " [0 0 0 0 0 1 0]\n",
      " [0 0 0 0 1 0 0]\n",
      " [0 0 0 0 1 0 0]\n",
      " [0 0 0 1 0 0 0]]\n",
      "1/1 [==============================] - 0s 5ms/step - loss: 2.0668 - accuracy: 0.1429\n",
      "Test loss: 2.066800117492676 / Test accuracy: 0.1428571492433548\n"
     ]
    },
    {
     "data": {
      "image/png": "[encoded data removed]",
      "text/plain": [
       "<Figure size 432x288 with 1 Axes>"
      ]
     },
     "metadata": {
      "needs_background": "light"
     },
     "output_type": "display_data"
    },
    {
     "data": {
      "image/png": "[encoded data removed]",
      "text/plain": [
       "<Figure size 432x288 with 1 Axes>"
      ]
     },
     "metadata": {
      "needs_background": "light"
     },
     "output_type": "display_data"
    }
   ],
   "source": [
    "# Inference in test_set\n",
    "model.load_weights(checkpointPath[modelName])\n",
    "\n",
    "y_pred = model.predict_classes(x_val)\n",
    "conf_matrix = confusion_matrix(y_val, y_pred)\n",
    "print(conf_matrix)\n",
    "\n",
    "score = model.evaluate(x_val, y_val_cat, verbose=1)\n",
    "print(f'Test loss: {score[0]} / Test accuracy: {score[1]}')\n"
   ]
  },
  {
   "cell_type": "code",
   "execution_count": null,
   "metadata": {},
   "outputs": [],
   "source": []
  }
 ],
 "metadata": {
  "kernelspec": {
   "display_name": "Python 3",
   "language": "python",
   "name": "python3"
  },
  "language_info": {
   "codemirror_mode": {
    "name": "ipython",
    "version": 3
   },
   "file_extension": ".py",
   "mimetype": "text/x-python",
   "name": "python",
   "nbconvert_exporter": "python",
   "pygments_lexer": "ipython3",
   "version": "3.8.5"
  }
 },
 "nbformat": 4,
 "nbformat_minor": 4
}
