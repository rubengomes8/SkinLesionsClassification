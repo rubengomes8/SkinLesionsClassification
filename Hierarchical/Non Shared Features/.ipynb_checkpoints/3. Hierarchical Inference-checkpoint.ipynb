{
 "cells": [
  {
   "cell_type": "code",
   "execution_count": 2,
   "metadata": {},
   "outputs": [],
   "source": [
    "import cv2\n",
    "import os\n",
    "from operator import itemgetter\n",
    "from numpy import array\n",
    "import csv\n",
    "import time\n",
    "import matplotlib.pyplot as plt\n",
    "import tensorflow as tf\n",
    "from tensorflow.keras.applications.densenet import DenseNet121\n",
    "from tensorflow.keras.layers import Dense, GlobalAveragePooling2D\n",
    "import pandas as pd"
   ]
  },
  {
   "cell_type": "code",
   "execution_count": 3,
   "metadata": {},
   "outputs": [],
   "source": [
    "# imports all the images from a specified folder, with a specific extension\n",
    "# and resizes to a specific imgHeight, imgWidth\n",
    "\n",
    "def import_dataset(path, mode, fileExtension='.jpg', imgWidth=224, imgHeight=224):\n",
    "    datasetFilenamesImages = []\n",
    "    dataset = []\n",
    "    print(\"Start importing \" + mode + \" images...\")\n",
    "    for filename in os.listdir(path):\n",
    "        if filename.endswith(fileExtension): \n",
    "            completePath = os.path.join(path, filename)\n",
    "            image = cv2.imread(completePath, cv2.IMREAD_COLOR)\n",
    "            image = cv2.cvtColor(image, cv2.COLOR_BGR2RGB)\n",
    "            image = cv2.resize(image, dsize=(imgHeight, imgWidth), interpolation=cv2.INTER_AREA)\n",
    "            filenameImage = [filename, image]\n",
    "            datasetFilenamesImages.append(filenameImage)\n",
    "        else:\n",
    "            continue\n",
    "    \n",
    "    datasetFilenamesImages = sorted(datasetFilenamesImages, key=itemgetter(0))\n",
    "    for x in datasetFilenamesImages:\n",
    "        dataset.append(x[1])\n",
    "    \n",
    "    return array(dataset)"
   ]
  },
  {
   "cell_type": "code",
   "execution_count": 4,
   "metadata": {},
   "outputs": [],
   "source": [
    "def assign_labels(path_groundtruth):\n",
    "    target = []\n",
    "    counter = {'MEL': 0, 'NV': 0, 'BCC': 0, 'AKIEC': 0, 'BKL': 0, 'DF': 0, 'VASC': 0}\n",
    "    i=0\n",
    "    with open(path_groundtruth, 'r') as file:\n",
    "        reader = csv.reader(file)\n",
    "        for row in reader:\n",
    "            if i == 0:\n",
    "                i += 1\n",
    "                continue\n",
    "            if row[1] == '1.0': # MEL\n",
    "                counter['MEL'] += 1\n",
    "                target.append(0)\n",
    "            elif row[2] == '1.0': # NV\n",
    "                counter['NV'] += 1\n",
    "                target.append(1)\n",
    "            elif row[3] == '1.0': # BCC\n",
    "                counter['BCC'] += 1\n",
    "                target.append(2)\n",
    "            elif row[4] == '1.0': # AKIEC\n",
    "                counter['AKIEC'] += 1\n",
    "                target.append(3)\n",
    "            elif row[5] == '1.0': # BKL\n",
    "                counter['BKL'] += 1\n",
    "                target.append(4)\n",
    "            elif row[6] == '1.0': # DF\n",
    "                counter['DF'] += 1\n",
    "                target.append(5)\n",
    "            elif row[7] == '1.0':   # VASC\n",
    "                counter['VASC'] += 1\n",
    "                target.append(6) # BCC\n",
    "            else:\n",
    "                continue\n",
    "    print(counter)\n",
    "    file.close()\n",
    "    return counter, target"
   ]
  },
  {
   "cell_type": "code",
   "execution_count": 5,
   "metadata": {},
   "outputs": [],
   "source": [
    "def create_model(model = 'densenet', noClasses=2, imgWidth=224, imgHeight=224):\n",
    "    if model == 'densenet':\n",
    "        densenet = DenseNet121(include_top=False, weights=None, input_shape=(imgHeight, imgWidth, 3))\n",
    "        model = tf.keras.Sequential(densenet)\n",
    "        model.add(GlobalAveragePooling2D())\n",
    "        model.add(tf.keras.layers.Dropout(0.5))\n",
    "        model.add(Dense(units=noClasses, activation=\"softmax\"))\n",
    "    elif model == 'resnet':\n",
    "        from tensorflow.keras.applications.resnet import ResNet101\n",
    "        resnet = ResNet101(include_top=False, weights=None, input_shape=(imgHeight, imgWidth, 3))\n",
    "        model = tf.keras.Sequential(densenet)\n",
    "        model.add(GlobalAveragePooling2D())\n",
    "        model.add(tf.keras.layers.Dropout(0.5))\n",
    "        model.add(Dense(units=noClasses, activation=\"softmax\"))\n",
    "    else:\n",
    "        print(\"That model is not available.\")\n",
    "        exit(0)\n",
    "        \n",
    "    return model"
   ]
  },
  {
   "cell_type": "code",
   "execution_count": 6,
   "metadata": {},
   "outputs": [
    {
     "data": {
      "text/plain": [
       "<tensorflow.python.training.tracking.util.CheckpointLoadStatus at 0x7fb5ae506520>"
      ]
     },
     "execution_count": 6,
     "metadata": {},
     "output_type": "execute_result"
    }
   ],
   "source": [
    "# Create 5 classifiers and load the weights\n",
    "\n",
    "model1 = create_model('densenet', 2) # MEL vs NMEL\n",
    "model2 = create_model('densenet', 2) # NV vs MELA\n",
    "model3 = create_model('densenet', 2) # BEN vs MAL\n",
    "model4 = create_model('densenet', 3) # BKL vs DF vs VASC\n",
    "model5 = create_model('densenet', 2) # AKIEC vs BCC\n",
    "\n",
    "ckpt1_path = \"/home/ruben/Desktop/isic_2018/model_weights/hier/densenet/a/cp.ckpt\"\n",
    "ckpt2_path = \"/home/ruben/Desktop/isic_2018/model_weights/hier/densenet/b/cp.ckpt\"\n",
    "ckpt3_path = \"/home/ruben/Desktop/isic_2018/model_weights/hier/densenet/c/cp.ckpt\"\n",
    "ckpt4_path = \"/home/ruben/Desktop/isic_2018/model_weights/hier/densenet/d/cp.ckpt\"\n",
    "ckpt5_path = \"/home/ruben/Desktop/isic_2018/model_weights/hier/densenet/e/cp.ckpt\"\n",
    "\n",
    "model1.load_weights(ckpt1_path)\n",
    "model2.load_weights(ckpt2_path)\n",
    "model3.load_weights(ckpt3_path)\n",
    "model4.load_weights(ckpt4_path)\n",
    "model5.load_weights(ckpt5_path)"
   ]
  },
  {
   "cell_type": "code",
   "execution_count": 7,
   "metadata": {},
   "outputs": [
    {
     "name": "stdout",
     "output_type": "stream",
     "text": [
      "{'MEL': 1, 'NV': 1, 'BCC': 1, 'AKIEC': 1, 'BKL': 1, 'DF': 1, 'VASC': 1}\n",
      "Start importing validation images...\n",
      "len(x_a):  7\n",
      "len(y_a):  7\n"
     ]
    }
   ],
   "source": [
    "p_val = '/home/ruben/Desktop/isic_2018/val_2018'\n",
    "t_val = '/home/ruben/Desktop/isic_2018/val_2018/labels.csv'\n",
    "\n",
    "counter, y_a = assign_labels(t_val)\n",
    "x_a = import_dataset(p_val, 'validation')\n",
    "print(\"len(x_a): \", len(x_a))\n",
    "print(\"len(y_a): \", len(y_a))"
   ]
  },
  {
   "cell_type": "code",
   "execution_count": 10,
   "metadata": {},
   "outputs": [
    {
     "name": "stdout",
     "output_type": "stream",
     "text": [
      "len(y_hat_a):  7\n",
      "len(x_mel):  6\n",
      "len(x_nmel):  1\n"
     ]
    }
   ],
   "source": [
    "x_mel = []\n",
    "x_nmel = []\n",
    "y_mel = []\n",
    "y_nmel = []\n",
    "indexes_a_nmel = []\n",
    "indexes_a_mel = []\n",
    "y_hat_a = model1.predict_classes(x_a)\n",
    "\n",
    "for i in range(0, len(y_hat_a)):\n",
    "    if y_hat_a[i] == 1: # NMEL\n",
    "        # indexes: what indexes of y_hat_a are nmel lesions\n",
    "        indexes_a_nmel.append(i)\n",
    "        x_nmel.append(x_a[i])\n",
    "        y_nmel.append(y_a[i])\n",
    "    \n",
    "    elif y_hat_a[i] == 0: # MEL\n",
    "        indexes_a_mel.append(i)\n",
    "        x_mel.append(x_a[i])\n",
    "        y_mel.append(y_a[i])\n",
    "\n",
    "x_mel = array(x_mel)\n",
    "x_nmel = array(x_nmel)\n",
    "\n",
    "print(\"len(y_hat_a): \", len(y_hat_a))\n",
    "print(\"len(x_mel): \", len(x_mel))\n",
    "print(\"len(x_nmel): \", len(x_nmel))   "
   ]
  },
  {
   "cell_type": "code",
   "execution_count": 11,
   "metadata": {},
   "outputs": [],
   "source": [
    "if(len(x_mel) != 0):\n",
    "    y_hat_b = model2.predict_classes(x_mel)\n",
    "else:\n",
    "    y_hat_b = []\n",
    "    \n",
    "zippedList = list(zip(y_hat_b, y_mel))\n",
    "df_mel = pd.DataFrame(zippedList, columns = ['MEL_PRED', 'MEL_TRUTH'])\n",
    "df_mel.to_csv('/home/ruben/Desktop/teste_mel3.csv', index=False)"
   ]
  },
  {
   "cell_type": "code",
   "execution_count": 13,
   "metadata": {},
   "outputs": [
    {
     "name": "stdout",
     "output_type": "stream",
     "text": [
      "len(y_hat_c):  1\n",
      "len(x_ben):  0\n",
      "len(x_mal):  1\n"
     ]
    }
   ],
   "source": [
    "x_ben = []\n",
    "x_mal = []\n",
    "y_ben = []\n",
    "y_mal = []\n",
    "indexes_c_mal = []\n",
    "indexes_c_ben = []\n",
    "y_hat_c = model3.predict_classes(x_nmel)\n",
    "\n",
    "if(len(y_hat_c) != 0):\n",
    "    for i in range(0, len(y_hat_c)):\n",
    "\n",
    "        if y_hat_c[i] == 1: # MAL\n",
    "            indexes_c_mal.append(i)\n",
    "            x_mal.append(x_nmel[i])\n",
    "            y_mal.append(y_nmel[i])\n",
    "\n",
    "        elif y_hat_c[i] == 0: # MAL\n",
    "            indexes_c_ben.append(i)\n",
    "            x_ben.append(x_nmel[i])\n",
    "            y_ben.append(y_nmel[i])\n",
    "\n",
    "    x_ben = array(x_ben)\n",
    "    x_mal = array(x_mal)\n",
    "\n",
    "    print(\"len(y_hat_c): \", len(y_hat_c))\n",
    "    print(\"len(x_ben): \", len(x_ben))\n",
    "    print(\"len(x_mal): \", len(x_mal))      "
   ]
  },
  {
   "cell_type": "code",
   "execution_count": 14,
   "metadata": {},
   "outputs": [],
   "source": [
    "if(len(x_ben) != 0):\n",
    "    y_hat_d = model4.predict_classes(x_ben)\n",
    "else:\n",
    "    y_hat_d = []\n",
    "\n",
    "zippedList = list(zip(y_hat_d, y_ben))\n",
    "df_ben = pd.DataFrame(zippedList, columns = ['BEN_PRED', 'BEN_TRUTH'])\n",
    "df_ben.to_csv('/home/ruben/Desktop/teste_ben3.csv', index=False)\n"
   ]
  },
  {
   "cell_type": "code",
   "execution_count": 15,
   "metadata": {},
   "outputs": [],
   "source": [
    "if(len(x_mal) != 0):\n",
    "    y_hat_e = model5.predict_classes(x_mal)\n",
    "else:\n",
    "    y_hat_e = []\n",
    "    \n",
    "zippedList = list(zip(y_hat_e, y_mal))\n",
    "df_mal = pd.DataFrame(zippedList, columns = ['MAL_PRED', 'MAL_TRUTH'])\n",
    "df_mal.to_csv('/home/ruben/Desktop/teste_mal3.csv', index=False)"
   ]
  }
 ],
 "metadata": {
  "kernelspec": {
   "display_name": "Python 3",
   "language": "python",
   "name": "python3"
  },
  "language_info": {
   "codemirror_mode": {
    "name": "ipython",
    "version": 3
   },
   "file_extension": ".py",
   "mimetype": "text/x-python",
   "name": "python",
   "nbconvert_exporter": "python",
   "pygments_lexer": "ipython3",
   "version": "3.8.5"
  }
 },
 "nbformat": 4,
 "nbformat_minor": 4
}
