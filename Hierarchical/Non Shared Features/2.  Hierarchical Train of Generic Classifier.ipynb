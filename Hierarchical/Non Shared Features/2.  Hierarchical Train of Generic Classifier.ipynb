{
 "cells": [
  {
   "cell_type": "code",
   "execution_count": 1,
   "metadata": {
    "scrolled": true
   },
   "outputs": [],
   "source": [
    "import cv2\n",
    "import os\n",
    "from operator import itemgetter\n",
    "from numpy import array\n",
    "import csv\n",
    "import time\n",
    "import matplotlib.pyplot as plt\n",
    "import keras\n",
    "import tensorflow as tf\n",
    "from sklearn.metrics import confusion_matrix"
   ]
  },
  {
   "cell_type": "markdown",
   "metadata": {},
   "source": [
    "## Usage\n",
    "\n",
    "1. Define the paths\n",
    "2. Specify the classifier to be trained and the classes array\n",
    "3. Define the training variables\n",
    "4. Run the remaining code"
   ]
  },
  {
   "cell_type": "code",
   "execution_count": 2,
   "metadata": {},
   "outputs": [],
   "source": [
    "# Define the paths\n",
    "\n",
    "pathTrainArray = ['/home/ruben/Desktop/isic_2018/train_2018/',\n",
    "                  '/home/ruben/Desktop/isic_2018/hier/b/',\n",
    "                  '/home/ruben/Desktop/isic_2018/hier/c/',\n",
    "                  '/home/ruben/Desktop/isic_2018/hier/d/',\n",
    "                  '/home/ruben/Desktop/isic_2018/hier/e/']\n",
    "\n",
    "truthTrainArray = ['/home/ruben/Desktop/isic_2018/hier/a/labels.csv',\n",
    "                   '/home/ruben/Desktop/isic_2018/hier/b/labels.csv',\n",
    "                   '/home/ruben/Desktop/isic_2018/hier/c/labels.csv',\n",
    "                   '/home/ruben/Desktop/isic_2018/hier/d/labels.csv',\n",
    "                   '/home/ruben/Desktop/isic_2018/hier/e/labels.csv']\n",
    "\n",
    "pathValArray  = ['/home/ruben/Desktop/isic_2018/val_2018/',\n",
    "                 '/home/ruben/Desktop/isic_2018/hier_val/b/',\n",
    "                 '/home/ruben/Desktop/isic_2018/hier_val/c/',\n",
    "                 '/home/ruben/Desktop/isic_2018/hier_val/d/',\n",
    "                 '/home/ruben/Desktop/isic_2018/hier_val/e/']\n",
    "\n",
    "truthValArray = ['/home/ruben/Desktop/isic_2018/hier_val/a/labels.csv',\n",
    "                 '/home/ruben/Desktop/isic_2018/hier_val/b/labels.csv',\n",
    "                 '/home/ruben/Desktop/isic_2018/hier_val/c/labels.csv',\n",
    "                 '/home/ruben/Desktop/isic_2018/hier_val/d/labels.csv',\n",
    "                 '/home/ruben/Desktop/isic_2018/hier_val/e/labels.csv']\n",
    "\n",
    "checkpointPath = {\n",
    "    'resnet': [\"/home/ruben/Desktop/isic_2018/model_weights/hier/resnet/a/cp.ckpt\",\n",
    "               \"/home/ruben/Desktop/isic_2018/model_weights/hier/resnet/b/cp.ckpt\",\n",
    "               \"/home/ruben/Desktop/isic_2018/model_weights/hier/resnet/c/cp.ckpt\",\n",
    "               \"/home/ruben/Desktop/isic_2018/model_weights/hier/resnet/d/cp.ckpt\",\n",
    "               \"/home/ruben/Desktop/isic_2018/model_weights/hier/resnet/e/cp.ckpt\"],\n",
    "    'densenet': [\"/home/ruben/Desktop/isic_2018/model_weights/hier/densenet/a/cp.ckpt\",\n",
    "                \"/home/ruben/Desktop/isic_2018/model_weights/hier/densenet/b/cp.ckpt\",\n",
    "                \"/home/ruben/Desktop/isic_2018/model_weights/hier/densenet/c/cp.ckpt\",\n",
    "                \"/home/ruben/Desktop/isic_2018/model_weights/hier/densenet/d/cp.ckpt\",\n",
    "                \"/home/ruben/Desktop/isic_2018/model_weights/hier/densenet/e/cp.ckpt\"]\n",
    "}"
   ]
  },
  {
   "cell_type": "code",
   "execution_count": 3,
   "metadata": {},
   "outputs": [],
   "source": [
    "# Specify the classifier to be trained and the classes array\n",
    "# a: ['MEL', 'NMEL']\n",
    "# b: ['MEL', 'NV']\n",
    "# c: ['BEN', 'MAL']\n",
    "# d: ['BKL', 'DF', 'VASC']\n",
    "# e: ['BCC', 'AKIEC']\n",
    "\n",
    "classifier = 'e'\n",
    "classesArray = ['BCC', 'AKIEC']\n",
    "\n",
    "# Define training variables\n",
    "noEpochs = 5\n",
    "learningRate = 1e-5\n",
    "noClasses = len(classesArray)\n",
    "batchSize = 10\n",
    "modelName = 'densenet'"
   ]
  },
  {
   "cell_type": "code",
   "execution_count": 4,
   "metadata": {},
   "outputs": [],
   "source": [
    "# imports all the images from a specified folder, with a specific extension\n",
    "# and resizes to a specific imgHeight, imgWidth\n",
    "\n",
    "def import_dataset(path, mode, fileExtension='.jpg', imgWidth=224, imgHeight=224):\n",
    "    datasetFilenamesImages = []\n",
    "    dataset = []\n",
    "    print(\"Start importing \" + mode + \" images...\")\n",
    "    for filename in os.listdir(path):\n",
    "        if filename.endswith(fileExtension): \n",
    "            completePath = os.path.join(path, filename)\n",
    "            image = cv2.imread(completePath, cv2.IMREAD_COLOR)\n",
    "            image = cv2.cvtColor(image, cv2.COLOR_BGR2RGB)\n",
    "            image = cv2.resize(image, dsize=(imgHeight, imgWidth), interpolation=cv2.INTER_AREA)\n",
    "            filenameImage = [filename, image]\n",
    "            datasetFilenamesImages.append(filenameImage)\n",
    "        else:\n",
    "            continue\n",
    "    \n",
    "    datasetFilenamesImages = sorted(datasetFilenamesImages, key=itemgetter(0))\n",
    "    for x in datasetFilenamesImages:\n",
    "        dataset.append(x[1])\n",
    "    \n",
    "    return array(dataset)"
   ]
  },
  {
   "cell_type": "code",
   "execution_count": 5,
   "metadata": {},
   "outputs": [],
   "source": [
    "def assign_labels(path_groundtruth, classesArray):\n",
    "    target = []\n",
    "    if len(classesArray) == 2:\n",
    "        counter = {classesArray[0]: 0, classesArray[1]: 0}\n",
    "    elif len(classesArray) == 3:\n",
    "        counter = {classesArray[0]: 0, classesArray[1]: 0, classesArray[2]: 0}\n",
    "        \n",
    "    i = 0\n",
    "    with open(path_groundtruth, 'r') as file:\n",
    "        reader = csv.reader(file)\n",
    "        for row in reader:\n",
    "            if i == 0:\n",
    "                i += 1\n",
    "                continue\n",
    "\n",
    "            if row[1] == '1.0': # BCC\n",
    "                counter[classesArray[0]] += 1\n",
    "                target.append(0)\n",
    "            elif row[2] == '1.0': # AKIEC\n",
    "                counter[classesArray[1]] += 1\n",
    "                target.append(1)\n",
    "                \n",
    "            if len(classesArray) == 3:\n",
    "                if row[3] == '1.0':\n",
    "                    counter[classesArray[2]] += 1\n",
    "                    target.append(2)\n",
    "\n",
    "    print(counter)\n",
    "    file.close()\n",
    "    return counter, target"
   ]
  },
  {
   "cell_type": "code",
   "execution_count": 6,
   "metadata": {},
   "outputs": [],
   "source": [
    "def plot_val_train_error(fit):\n",
    "    plt.plot(fit.history['accuracy'])\n",
    "    plt.plot(fit.history['val_accuracy'])\n",
    "    plt.grid(True)\n",
    "    plt.title('model accuracy')\n",
    "    plt.ylabel('accuracy')\n",
    "    plt.xlabel('epoch')\n",
    "    plt.legend(['train', 'val'], loc='upper left')\n",
    "    plt.show()\n",
    "\n",
    "    plt.plot(fit.history['loss'])\n",
    "    plt.plot(fit.history['val_loss'])\n",
    "    plt.grid(True)\n",
    "    plt.title('model loss')\n",
    "    plt.ylabel('loss')\n",
    "    plt.xlabel('epoch')\n",
    "    plt.legend(['train', 'val'], loc='upper left')\n",
    "    plt.show()"
   ]
  },
  {
   "cell_type": "code",
   "execution_count": 7,
   "metadata": {},
   "outputs": [],
   "source": [
    "def create_model(model = 'densenet', transferLearning=True, noClasses=2, imgWidth=224, imgHeight=224):\n",
    "    if model == 'resnet':\n",
    "\n",
    "        from tensorflow.keras.applications.resnet import ResNet101\n",
    "        from tensorflow.keras.layers import Dense, GlobalAveragePooling2D\n",
    "\n",
    "        if transferLearning == False:\n",
    "            resnet = ResNet101(include_top=False, weights=None, input_shape=(imgHeight, imgWidth, 3))\n",
    "        else:\n",
    "            resnet = ResNet101(include_top=False, weights='imagenet', input_shape=(imgHeight, imgWidth, 3))\n",
    "\n",
    "        model = tf.keras.Sequential(resnet)\n",
    "        model.add(GlobalAveragePooling2D())\n",
    "        model.add(tf.keras.layers.Dropout(0.5))\n",
    "        model.add(Dense(units=noClasses, activation=\"softmax\"))\n",
    "\n",
    "    elif model == 'densenet':\n",
    "\n",
    "        from tensorflow.keras.applications.densenet import DenseNet121\n",
    "        from tensorflow.keras.layers import Dense, GlobalAveragePooling2D\n",
    "\n",
    "        if transferLearning == False:\n",
    "            densenet = DenseNet121(include_top=False, weights=None, input_shape=(imgHeight, imgWidth, 3))\n",
    "        else:\n",
    "            densenet = DenseNet121(include_top=False, weights='imagenet', input_shape=(imgHeight, imgWidth, 3))\n",
    "\n",
    "        model = tf.keras.Sequential(densenet)\n",
    "        model.add(GlobalAveragePooling2D())\n",
    "        model.add(tf.keras.layers.Dropout(0.5))\n",
    "        model.add(Dense(units=noClasses, activation=\"softmax\"))\n",
    "\n",
    "    else:\n",
    "        print(\"That model is not available.\")\n",
    "        exit(0)\n",
    "\n",
    "    return model"
   ]
  },
  {
   "cell_type": "code",
   "execution_count": 8,
   "metadata": {},
   "outputs": [],
   "source": [
    "# Learning Rate Scheduler\n",
    "def scheduler(epoch):\n",
    "    global learningRate\n",
    "    global noEpochs\n",
    "    if epoch < int(0.5 * noEpochs):\n",
    "        return learningRate\n",
    "    elif epoch < int(0.75 * noEpochs):\n",
    "        return learningRate / 10\n",
    "    else:\n",
    "        return learningRate / 100"
   ]
  },
  {
   "cell_type": "code",
   "execution_count": 9,
   "metadata": {},
   "outputs": [
    {
     "name": "stdout",
     "output_type": "stream",
     "text": [
      "Start importing training images...\n",
      "{'BCC': 3, 'AKIEC': 3}\n",
      "Start importing validation images...\n",
      "{'BCC': 1, 'AKIEC': 1}\n",
      "Dataset Imported\n"
     ]
    }
   ],
   "source": [
    "# Import Training and Validation datasets and Groundtruth of classifier\n",
    "classifierToIndex = {'a': 0, 'b': 1, 'c': 2, 'd': 3, 'e': 4}\n",
    "indexClassifier = classifierToIndex[classifier]\n",
    "\n",
    "x_train = import_dataset(pathTrainArray[indexClassifier], 'training')\n",
    "counter, y_train = assign_labels(truthTrainArray[indexClassifier], classesArray)\n",
    "\n",
    "x_val = import_dataset(pathValArray[indexClassifier], 'validation')\n",
    "counter, y_val = assign_labels(truthValArray[indexClassifier], classesArray)\n",
    "\n",
    "print(\"Dataset Imported\")"
   ]
  },
  {
   "cell_type": "code",
   "execution_count": 10,
   "metadata": {},
   "outputs": [],
   "source": [
    "w_0_float = float(counter[classesArray[0]])\n",
    "w_1_float = float(counter[classesArray[1]])\n",
    "\n",
    "\n",
    "if noClasses == 2:\n",
    "    w_total = w_0_float + w_1_float\n",
    "    w_0 = w_total / w_0_float\n",
    "    w_1 = w_total / w_1_float\n",
    "    classWeights = {0: w_0, 1: w_1}\n",
    "elif noClasses == 3:\n",
    "    w_2_float = float(counter[classesArray[2]])\n",
    "    w_total = w_0_float + w_1_float + w_2_float\n",
    "    w_0 = w_total / w_0_float\n",
    "    w_1 = w_total / w_1_float\n",
    "    w_2 = w_total / w_2_float\n",
    "    classWeights = {0: w_0, 1: w_1, 2: w_2}\n",
    "\n",
    "y_train_cat = keras.utils.to_categorical(y_train, noClasses)\n",
    "y_val_cat = keras.utils.to_categorical(y_val, noClasses)\n",
    "\n",
    "# Callback to adapt the learning rate value\n",
    "schedulerLearningRate = tf.keras.callbacks.LearningRateScheduler(scheduler)\n",
    "\n",
    "# Callback to save the Best Model Weights\n",
    "checkpoint_dir = os.path.dirname(checkpointPath[modelName][indexClassifier])\n",
    "checkpoint = tf.keras.callbacks.ModelCheckpoint(\n",
    "    filepath=checkpointPath[modelName][indexClassifier],\n",
    "    save_weights_only=True,\n",
    "    verbose=1, \n",
    "    save_best_only=True\n",
    ")"
   ]
  },
  {
   "cell_type": "code",
   "execution_count": 11,
   "metadata": {},
   "outputs": [
    {
     "name": "stdout",
     "output_type": "stream",
     "text": [
      "Model: \"sequential\"\n",
      "_________________________________________________________________\n",
      "Layer (type)                 Output Shape              Param #   \n",
      "=================================================================\n",
      "densenet121 (Model)          (None, 7, 7, 1024)        7037504   \n",
      "_________________________________________________________________\n",
      "global_average_pooling2d (Gl (None, 1024)              0         \n",
      "_________________________________________________________________\n",
      "dropout (Dropout)            (None, 1024)              0         \n",
      "_________________________________________________________________\n",
      "dense (Dense)                (None, 2)                 2050      \n",
      "=================================================================\n",
      "Total params: 7,039,554\n",
      "Trainable params: 6,955,906\n",
      "Non-trainable params: 83,648\n",
      "_________________________________________________________________\n"
     ]
    }
   ],
   "source": [
    "# Create and fit the model\n",
    "model = create_model(modelName, True, noClasses, 224, 224)\n",
    "model.summary()\n",
    "\n",
    "model.compile(\n",
    "    loss = keras.losses.categorical_crossentropy,\n",
    "    optimizer = tf.keras.optimizers.Adam(lr=1e-5),\n",
    "    metrics = ['accuracy']\n",
    ")"
   ]
  },
  {
   "cell_type": "code",
   "execution_count": 12,
   "metadata": {},
   "outputs": [
    {
     "name": "stdout",
     "output_type": "stream",
     "text": [
      "Epoch 1/5\n",
      "1/1 [==============================] - ETA: 0s - loss: 1.9867 - accuracy: 0.5000\n",
      "Epoch 00001: val_loss improved from inf to 0.80317, saving model to /home/ruben/Desktop/isic_2018/model_weights/hier/densenet/e/cp.ckpt\n",
      "1/1 [==============================] - 7s 7s/step - loss: 1.9867 - accuracy: 0.5000 - val_loss: 0.8032 - val_accuracy: 0.5000 - lr: 1.0000e-05\n",
      "Epoch 2/5\n",
      "1/1 [==============================] - ETA: 0s - loss: 1.0405 - accuracy: 0.8333\n",
      "Epoch 00002: val_loss improved from 0.80317 to 0.60449, saving model to /home/ruben/Desktop/isic_2018/model_weights/hier/densenet/e/cp.ckpt\n",
      "1/1 [==============================] - 2s 2s/step - loss: 1.0405 - accuracy: 0.8333 - val_loss: 0.6045 - val_accuracy: 0.5000 - lr: 1.0000e-05\n",
      "Epoch 3/5\n",
      "1/1 [==============================] - ETA: 0s - loss: 0.9627 - accuracy: 0.6667\n",
      "Epoch 00003: val_loss did not improve from 0.60449\n",
      "1/1 [==============================] - 1s 510ms/step - loss: 0.9627 - accuracy: 0.6667 - val_loss: 0.6415 - val_accuracy: 1.0000 - lr: 1.0000e-06\n",
      "Epoch 4/5\n",
      "1/1 [==============================] - ETA: 0s - loss: 0.5855 - accuracy: 0.8333\n",
      "Epoch 00004: val_loss did not improve from 0.60449\n",
      "1/1 [==============================] - 0s 440ms/step - loss: 0.5855 - accuracy: 0.8333 - val_loss: 0.6548 - val_accuracy: 0.5000 - lr: 1.0000e-07\n",
      "Epoch 5/5\n",
      "1/1 [==============================] - ETA: 0s - loss: 0.9449 - accuracy: 0.8333\n",
      "Epoch 00005: val_loss did not improve from 0.60449\n",
      "1/1 [==============================] - 1s 512ms/step - loss: 0.9449 - accuracy: 0.8333 - val_loss: 0.6987 - val_accuracy: 0.5000 - lr: 1.0000e-07\n"
     ]
    }
   ],
   "source": [
    "fit = model.fit(\n",
    "    x_train,\n",
    "    y_train_cat,\n",
    "    batch_size=batchSize,\n",
    "    class_weight=classWeights,\n",
    "    callbacks=[schedulerLearningRate, checkpoint],\n",
    "    epochs=noEpochs,\n",
    "    shuffle=True,\n",
    "    validation_data=(x_val, y_val_cat)\n",
    ")"
   ]
  },
  {
   "cell_type": "code",
   "execution_count": 13,
   "metadata": {},
   "outputs": [
    {
     "name": "stdout",
     "output_type": "stream",
     "text": [
      "WARNING:tensorflow:From <ipython-input-13-31dd22b2402a>:4: Sequential.predict_classes (from tensorflow.python.keras.engine.sequential) is deprecated and will be removed after 2021-01-01.\n",
      "Instructions for updating:\n",
      "Please use instead:* `np.argmax(model.predict(x), axis=-1)`,   if your model does multi-class classification   (e.g. if it uses a `softmax` last-layer activation).* `(model.predict(x) > 0.5).astype(\"int32\")`,   if your model does binary classification   (e.g. if it uses a `sigmoid` last-layer activation).\n",
      "[[1 0]\n",
      " [1 0]]\n",
      "1/1 [==============================] - 0s 2ms/step - loss: 0.6045 - accuracy: 0.5000\n",
      "Val loss: 0.6044867038726807 / Val accuracy: 0.5\n"
     ]
    },
    {
     "data": {
      "image/png": "[encoded data removed]",
      "text/plain": [
       "<Figure size 432x288 with 1 Axes>"
      ]
     },
     "metadata": {
      "needs_background": "light"
     },
     "output_type": "display_data"
    },
    {
     "data": {
      "image/png": "[encoded data removed]",
      "text/plain": [
       "<Figure size 432x288 with 1 Axes>"
      ]
     },
     "metadata": {
      "needs_background": "light"
     },
     "output_type": "display_data"
    }
   ],
   "source": [
    "# Evaluate in validation set\n",
    "model.load_weights(checkpointPath[modelName][indexClassifier])\n",
    "\n",
    "y_pred = model.predict_classes(x_val)\n",
    "conf_matrix = confusion_matrix(y_val, y_pred)\n",
    "print(conf_matrix)\n",
    "\n",
    "score = model.evaluate(x_val, y_val_cat, verbose=1)\n",
    "print(f'Val loss: {score[0]} / Val accuracy: {score[1]}')\n",
    "\n",
    "plot_val_train_error(fit)"
   ]
  }
 ],
 "metadata": {
  "kernelspec": {
   "display_name": "Python 3",
   "language": "python",
   "name": "python3"
  },
  "language_info": {
   "codemirror_mode": {
    "name": "ipython",
    "version": 3
   },
   "file_extension": ".py",
   "mimetype": "text/x-python",
   "name": "python",
   "nbconvert_exporter": "python",
   "pygments_lexer": "ipython3",
   "version": "3.8.5"
  }
 },
 "nbformat": 4,
 "nbformat_minor": 5
}
