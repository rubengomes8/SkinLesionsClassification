{
 "cells": [
  {
   "cell_type": "code",
   "execution_count": null,
   "metadata": {},
   "outputs": [],
   "source": [
    "import pandas as pd\n",
    "import numpy"
   ]
  },
  {
   "cell_type": "code",
   "execution_count": null,
   "metadata": {},
   "outputs": [],
   "source": [
    "path_mel_csv = '/home/ruben/Desktop/teste_mel3.csv'\n",
    "path_mal_csv = '/home/ruben/Desktop/teste_mal3.csv'\n",
    "path_ben_csv = '/home/ruben/Desktop/teste_ben3.csv'\n",
    "\n",
    "df_mel = pd.read_csv(path_mel_csv)\n",
    "df_mal = pd.read_csv(path_mal_csv)\n",
    "df_ben = pd.read_csv(path_ben_csv)\n",
    "\n",
    "print(df_mal)\n",
    "\n",
    "mal_pred = df_mal['MAL_PRED'].to_numpy()\n",
    "mal = df_mal['MAL_TRUTH'].to_numpy()\n",
    "ben_pred = df_ben['BEN_PRED'].to_numpy()\n",
    "ben = df_ben['BEN_TRUTH'].to_numpy()\n",
    "mel_pred = df_mel['MEL_PRED'].to_numpy()\n",
    "mel = df_mel['MEL_TRUTH'].to_numpy()\n",
    "\n",
    "for i in range(0, len(mal_pred)):\n",
    "    mal_pred[i] += 2\n",
    "\n",
    "for i in range(0, len(ben_pred)):\n",
    "    ben_pred[i] += 4\n",
    "\n",
    "counter_truth = {'0': 0, '1': 0, '2': 0, '3': 0, '4': 0, '5': 0, '6': 0}\n",
    "counter_pred = {'0': 0, '1': 0, '2': 0, '3': 0, '4': 0, '5': 0, '6': 0}\n",
    "\n",
    "conf = numpy.zeros(shape=(7, 7), dtype=int)\n",
    "\n",
    "# MEL\n",
    "for i in range(0, len(mel)):\n",
    "    conf[mel[i]][mel_pred[i]] += 1\n",
    "    counter_truth[str(mel[i])] += 1\n",
    "    counter_pred[str(mel_pred[i])] += 1\n",
    "\n",
    "# BEN\n",
    "for i in range(0, len(ben)):\n",
    "    conf[ben[i]][ben_pred[i]] += 1\n",
    "    counter_truth[str(ben[i])] += 1\n",
    "    counter_pred[str(ben_pred[i])] += 1\n",
    "\n",
    "# MAL\n",
    "for i in range(0, len(mal)):\n",
    "    conf[mal[i]][mal_pred[i]] += 1\n",
    "    counter_truth[str(mal[i])] += 1\n",
    "    counter_pred[str(mal_pred[i])] += 1\n",
    "\n",
    "print(conf)"
   ]
  }
 ],
 "metadata": {
  "kernelspec": {
   "display_name": "Python 3",
   "language": "python",
   "name": "python3"
  },
  "language_info": {
   "codemirror_mode": {
    "name": "ipython",
    "version": 3
   },
   "file_extension": ".py",
   "mimetype": "text/x-python",
   "name": "python",
   "nbconvert_exporter": "python",
   "pygments_lexer": "ipython3",
   "version": "3.8.5"
  }
 },
 "nbformat": 4,
 "nbformat_minor": 4
}
