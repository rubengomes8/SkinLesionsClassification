{
 "cells": [
  {
   "cell_type": "code",
   "execution_count": 1,
   "metadata": {},
   "outputs": [],
   "source": [
    "import pandas as pd\n",
    "import numpy"
   ]
  },
  {
   "cell_type": "markdown",
   "metadata": {},
   "source": [
    "# Step 1. Define variables of empty predictions\n",
    "\n",
    "* **flat_empty**: if classifier_flat has empty predictions\n",
    "* **mel_empty**: if classifier_b has empty predictions\n",
    "* **ben_empty**: if classifier_d has empty predictions\n",
    "* **mal_empty**: if classifier_e has empty predictions\n",
    "\n"
   ]
  },
  {
   "cell_type": "code",
   "execution_count": 2,
   "metadata": {},
   "outputs": [],
   "source": [
    "flat_empty = False\n",
    "mel_empty = True\n",
    "ben_empty = True\n",
    "mal_empty = True"
   ]
  },
  {
   "cell_type": "code",
   "execution_count": 3,
   "metadata": {},
   "outputs": [
    {
     "name": "stdout",
     "output_type": "stream",
     "text": [
      "[[0 0 0 0 1 0 0]\n",
      " [0 0 1 0 0 0 0]\n",
      " [0 0 0 0 1 0 0]\n",
      " [0 0 0 0 0 1 0]\n",
      " [0 0 0 0 1 0 0]\n",
      " [0 0 0 0 1 0 0]\n",
      " [0 0 0 1 0 0 0]]\n",
      "TOTAL:  7\n"
     ]
    }
   ],
   "source": [
    "if not ben_empty:\n",
    "    path_ben_csv = '/home/ruben/Desktop/classifier_d.csv'\n",
    "    df_ben = pd.read_csv(path_ben_csv)\n",
    "    ben_pred = df_ben['BEN_PRED'].to_numpy()\n",
    "    ben = df_ben['BEN_TRUTH'].to_numpy()\n",
    "    for i in range(0, len(ben_pred)):\n",
    "        ben_pred[i] += 4\n",
    "\n",
    "if not mal_empty:\n",
    "    path_mal_csv = '/home/ruben/Desktop/classifier_e.csv'\n",
    "    df_mal = pd.read_csv(path_mal_csv)\n",
    "    mal_pred = df_mal['MAL_PRED'].to_numpy()\n",
    "    mal = df_mal['MAL_TRUTH'].to_numpy()\n",
    "    for i in range(0, len(mal_pred)):\n",
    "        mal_pred[i] += 2\n",
    "\n",
    "if not mel_empty:\n",
    "    path_mel_csv = '/home/ruben/Desktop/classifier_b.csv'\n",
    "    df_mel = pd.read_csv(path_mel_csv)\n",
    "    mel_pred = df_mel['MEL_PRED'].to_numpy()\n",
    "    mel = df_mel['MEL_TRUTH'].to_numpy()\n",
    "    \n",
    "if not flat_empty:\n",
    "    path_flat_csv = '/home/ruben/Desktop/flat_classifier.csv'\n",
    "    df_flat = pd.read_csv(path_flat_csv)\n",
    "    flat_pred = df_flat['FLAT_PRED'].to_numpy()\n",
    "    flat = df_flat['FLAT_TRUTH'].to_numpy()\n",
    "\n",
    "counter_truth = {'0': 0, '1': 0, '2': 0, '3': 0, '4': 0, '5': 0, '6': 0}\n",
    "counter_pred = {'0': 0, '1': 0, '2': 0, '3': 0, '4': 0, '5': 0, '6': 0}\n",
    "\n",
    "conf = numpy.zeros(shape=(7, 7), dtype=int)\n",
    "\n",
    "total = 0\n",
    "# MEL\n",
    "if not mel_empty:\n",
    "    for i in range(0, len(mel)):\n",
    "        total += 1\n",
    "        conf[mel[i]][mel_pred[i]] += 1\n",
    "        counter_truth[str(mel[i])] += 1\n",
    "        counter_pred[str(mel_pred[i])] += 1\n",
    "\n",
    "# BEN\n",
    "if not ben_empty:\n",
    "    for i in range(0, len(ben)):\n",
    "        total += 1\n",
    "        conf[ben[i]][ben_pred[i]] += 1\n",
    "        counter_truth[str(ben[i])] += 1\n",
    "        counter_pred[str(ben_pred[i])] += 1\n",
    "\n",
    "# MAL\n",
    "if not mal_empty:\n",
    "    for i in range(0, len(mal)):\n",
    "        total += 1\n",
    "        conf[mal[i]][mal_pred[i]] += 1\n",
    "        counter_truth[str(mal[i])] += 1\n",
    "        counter_pred[str(mal_pred[i])] += 1\n",
    "\n",
    "# FLAT\n",
    "if not flat_empty:\n",
    "    for i in range(0, len(flat)):\n",
    "        total += 1\n",
    "        conf[flat[i]][flat_pred[i]] += 1\n",
    "        counter_truth[str(flat[i])] += 1\n",
    "        counter_pred[str(flat_pred[i])] += 1\n",
    "\n",
    "print(conf)\n",
    "\n",
    "print(\"TOTAL: \", total)"
   ]
  },
  {
   "cell_type": "code",
   "execution_count": null,
   "metadata": {},
   "outputs": [],
   "source": []
  }
 ],
 "metadata": {
  "kernelspec": {
   "display_name": "Python 3",
   "language": "python",
   "name": "python3"
  },
  "language_info": {
   "codemirror_mode": {
    "name": "ipython",
    "version": 3
   },
   "file_extension": ".py",
   "mimetype": "text/x-python",
   "name": "python",
   "nbconvert_exporter": "python",
   "pygments_lexer": "ipython3",
   "version": "3.8.5"
  }
 },
 "nbformat": 4,
 "nbformat_minor": 4
}
